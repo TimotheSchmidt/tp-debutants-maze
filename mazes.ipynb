{
 "cells": [
  {
   "cell_type": "code",
   "execution_count": 1,
   "id": "5806869f",
   "metadata": {},
   "outputs": [],
   "source": [
    "# %%\n",
    "# Python standard library\n",
    "import math\n",
    "import random\n",
    "\n",
    "# custom utils\n",
    "from utils import display_maze\n",
    "from examples.dense_maze_4x3 import maze"
   ]
  },
  {
   "cell_type": "code",
   "execution_count": 2,
   "id": "62c5e237",
   "metadata": {},
   "outputs": [],
   "source": [
    "def full_maze(width, height):\n",
    "    return 4\n"
   ]
  }
 ],
 "metadata": {
  "interpreter": {
   "hash": "23a6b913c5c0dcb48130fb95bc8c7b084c5a812df45cbb14e417b737a9d4ee46"
  },
  "kernelspec": {
   "display_name": "Python 3.9.5 64-bit ('base': conda)",
   "name": "python3"
  },
  "language_info": {
   "codemirror_mode": {
    "name": "ipython",
    "version": 3
   },
   "file_extension": ".py",
   "mimetype": "text/x-python",
   "name": "python",
   "nbconvert_exporter": "python",
   "pygments_lexer": "ipython3",
   "version": "3.9.5"
  }
 },
 "nbformat": 4,
 "nbformat_minor": 5
}
